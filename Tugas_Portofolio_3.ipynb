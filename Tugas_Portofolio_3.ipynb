{
  "nbformat": 4,
  "nbformat_minor": 0,
  "metadata": {
    "colab": {
      "name": "Tugas_Portofolio_3.ipynb",
      "provenance": [],
      "collapsed_sections": []
    },
    "kernelspec": {
      "name": "python3",
      "display_name": "Python 3"
    },
    "language_info": {
      "name": "python"
    }
  },
  "cells": [
    {
      "cell_type": "markdown",
      "source": [
        "# Data Type Conversion\n",
        "\n",
        "Python has many data types. In Python we can defines data type conversion functions like int(), float(), str(), etc to convert one data type to another."
      ],
      "metadata": {
        "id": "bRBAiJcvrYDT"
      }
    },
    {
      "cell_type": "markdown",
      "source": [
        "**1. Converting Integers to Floats**\n",
        "\n",
        "To convert the integer to float, use the float() function in Python. Similarly, if you want to convert a float to an integer, you can use the int() function."
      ],
      "metadata": {
        "id": "uxeVr7yEvHHl"
      }
    },
    {
      "cell_type": "code",
      "source": [
        "x = 22\n",
        "print(type(x))"
      ],
      "metadata": {
        "colab": {
          "base_uri": "https://localhost:8080/"
        },
        "id": "IX2CfHRyvP3V",
        "outputId": "3df2bddb-eb0d-4bcd-fc8e-a1eb63c47473"
      },
      "execution_count": null,
      "outputs": [
        {
          "output_type": "stream",
          "name": "stdout",
          "text": [
            "<class 'int'>\n"
          ]
        }
      ]
    },
    {
      "cell_type": "code",
      "source": [
        "x = 22\n",
        "float(x)"
      ],
      "metadata": {
        "colab": {
          "base_uri": "https://localhost:8080/"
        },
        "id": "fzBuUeuXw1Nj",
        "outputId": "de3057f3-8340-4d6a-bd2b-57621ab99ff8"
      },
      "execution_count": null,
      "outputs": [
        {
          "output_type": "execute_result",
          "data": {
            "text/plain": [
              "22.0"
            ]
          },
          "metadata": {},
          "execution_count": 13
        }
      ]
    },
    {
      "cell_type": "code",
      "source": [
        "print(type(float(3)))"
      ],
      "metadata": {
        "colab": {
          "base_uri": "https://localhost:8080/"
        },
        "id": "dQg3jJC6yb8A",
        "outputId": "c2352564-6332-4c90-f68b-6aaa0692243b"
      },
      "execution_count": null,
      "outputs": [
        {
          "output_type": "stream",
          "name": "stdout",
          "text": [
            "<class 'float'>\n"
          ]
        }
      ]
    },
    {
      "cell_type": "markdown",
      "source": [
        "**2. Converting Floats to Integers**\n",
        "\n",
        "Converting float to int will be floor/truncating or omit the value after the comma"
      ],
      "metadata": {
        "id": "OD9VBaOMyi3J"
      }
    },
    {
      "cell_type": "code",
      "source": [
        "z = 165.0\n",
        "type(z)"
      ],
      "metadata": {
        "colab": {
          "base_uri": "https://localhost:8080/"
        },
        "id": "MEkyN6qoygxN",
        "outputId": "b41ccd4f-0061-4ee9-a82a-331cb0bc02cb"
      },
      "execution_count": null,
      "outputs": [
        {
          "output_type": "execute_result",
          "data": {
            "text/plain": [
              "float"
            ]
          },
          "metadata": {},
          "execution_count": 25
        }
      ]
    },
    {
      "cell_type": "code",
      "source": [
        "int(z)"
      ],
      "metadata": {
        "colab": {
          "base_uri": "https://localhost:8080/"
        },
        "id": "j_wUoo2ky8nk",
        "outputId": "44bc3eff-d82c-4aad-f484-731fb5af0ec0"
      },
      "execution_count": null,
      "outputs": [
        {
          "output_type": "execute_result",
          "data": {
            "text/plain": [
              "165"
            ]
          },
          "metadata": {},
          "execution_count": 26
        }
      ]
    },
    {
      "cell_type": "code",
      "source": [
        "print(type(int(z)))"
      ],
      "metadata": {
        "colab": {
          "base_uri": "https://localhost:8080/"
        },
        "id": "F0HtKWU-zUuT",
        "outputId": "5e453955-d3fb-4858-941d-22d64c730d60"
      },
      "execution_count": null,
      "outputs": [
        {
          "output_type": "stream",
          "name": "stdout",
          "text": [
            "<class 'int'>\n"
          ]
        }
      ]
    },
    {
      "cell_type": "markdown",
      "source": [
        "**3. Converting Numbers to Strings**\n",
        "\n",
        "We can convert numbers to strings through using the str() method. We’ll pass either a number or a variable into the parentheses of the method and then that numeric value will be converted into a string value."
      ],
      "metadata": {
        "id": "LzS4PWdXzdJA"
      }
    },
    {
      "cell_type": "code",
      "source": [
        "#Converting Integers to Strings\n",
        "\n",
        "price = 15000\n",
        "type(price)"
      ],
      "metadata": {
        "colab": {
          "base_uri": "https://localhost:8080/"
        },
        "id": "UWPS_32j4HW0",
        "outputId": "7482db17-06a1-4dc1-cc85-824b298e3375"
      },
      "execution_count": null,
      "outputs": [
        {
          "output_type": "execute_result",
          "data": {
            "text/plain": [
              "int"
            ]
          },
          "metadata": {},
          "execution_count": 44
        }
      ]
    },
    {
      "cell_type": "code",
      "source": [
        "str(price)"
      ],
      "metadata": {
        "colab": {
          "base_uri": "https://localhost:8080/",
          "height": 35
        },
        "id": "iUse5qE64QT-",
        "outputId": "2b880b42-4719-45dc-c86f-5c2e45e80905"
      },
      "execution_count": null,
      "outputs": [
        {
          "output_type": "execute_result",
          "data": {
            "text/plain": [
              "'15000'"
            ],
            "application/vnd.google.colaboratory.intrinsic+json": {
              "type": "string"
            }
          },
          "metadata": {},
          "execution_count": 37
        }
      ]
    },
    {
      "cell_type": "code",
      "source": [
        "print(type(str(price)))"
      ],
      "metadata": {
        "colab": {
          "base_uri": "https://localhost:8080/"
        },
        "id": "OVrwpA854yHr",
        "outputId": "0b0e9ec7-66a0-449c-a3ae-23e8ed0c5c7d"
      },
      "execution_count": null,
      "outputs": [
        {
          "output_type": "stream",
          "name": "stdout",
          "text": [
            "<class 'str'>\n"
          ]
        }
      ]
    },
    {
      "cell_type": "markdown",
      "source": [
        "We can converting strings to numbers. For example we want to convert strings to float data type"
      ],
      "metadata": {
        "id": "i21C3Yfv429x"
      }
    },
    {
      "cell_type": "code",
      "source": [
        "price_mouse = \"95000.63\"\n",
        "price_flashdisk = \"79000.49\"\n",
        "type(price_mouse)\n",
        "type(price_flashdisk)"
      ],
      "metadata": {
        "colab": {
          "base_uri": "https://localhost:8080/"
        },
        "id": "h5543gj45ywy",
        "outputId": "aa231b2f-3117-4363-9dc7-98354e816265"
      },
      "execution_count": null,
      "outputs": [
        {
          "output_type": "execute_result",
          "data": {
            "text/plain": [
              "str"
            ]
          },
          "metadata": {},
          "execution_count": 80
        }
      ]
    },
    {
      "cell_type": "code",
      "source": [
        "# Explicit type conversion to float\n",
        "total = float(price_mouse) + float(price_flashdisk)\n",
        "print(\"The total is: \" + \"Rp.\" + str(total))"
      ],
      "metadata": {
        "colab": {
          "base_uri": "https://localhost:8080/"
        },
        "id": "5fD2tLl2AxJZ",
        "outputId": "a30c2b05-df93-4d20-a342-ce3e053b3656"
      },
      "execution_count": null,
      "outputs": [
        {
          "output_type": "stream",
          "name": "stdout",
          "text": [
            "The total is: Rp.174001.12\n"
          ]
        }
      ]
    },
    {
      "cell_type": "markdown",
      "source": [
        ""
      ],
      "metadata": {
        "id": "YyXihJ0W3Y2d"
      }
    },
    {
      "cell_type": "markdown",
      "source": [
        "**Converting List to Tuples**\n",
        "\n",
        "Just like integers and floats, we can also convert lists to tuples and tuples to lists. We can use the tuple() function to return a tuple version of the value passed to it."
      ],
      "metadata": {
        "id": "mDPdxpCv-EP5"
      }
    },
    {
      "cell_type": "code",
      "source": [
        "flowers = [\"roses\", \"sunflowers\", \"aster\", \"azalea\", \"jasmine\", \"peonies\"]\n",
        "print(type(flowers))"
      ],
      "metadata": {
        "colab": {
          "base_uri": "https://localhost:8080/"
        },
        "id": "gWrrRKAx-fsx",
        "outputId": "0b31821f-882d-4332-ee30-43380763fa4c"
      },
      "execution_count": null,
      "outputs": [
        {
          "output_type": "stream",
          "name": "stdout",
          "text": [
            "<class 'list'>\n"
          ]
        }
      ]
    },
    {
      "cell_type": "code",
      "source": [
        "tuple(flowers)"
      ],
      "metadata": {
        "colab": {
          "base_uri": "https://localhost:8080/"
        },
        "id": "NOZo0pDdAK8C",
        "outputId": "37b3e612-c5ae-49c3-9580-d3f2f25fc6bf"
      },
      "execution_count": null,
      "outputs": [
        {
          "output_type": "execute_result",
          "data": {
            "text/plain": [
              "('roses', 'sunflowers', 'aster', 'azalea', 'jasmine', 'peonies')"
            ]
          },
          "metadata": {},
          "execution_count": 77
        }
      ]
    },
    {
      "cell_type": "code",
      "source": [
        "print(type(tuple(flowers)))"
      ],
      "metadata": {
        "colab": {
          "base_uri": "https://localhost:8080/"
        },
        "id": "cE6W1cwzAYHD",
        "outputId": "6c980786-d21a-42d4-b697-547db08c4317"
      },
      "execution_count": null,
      "outputs": [
        {
          "output_type": "stream",
          "name": "stdout",
          "text": [
            "<class 'tuple'>\n"
          ]
        }
      ]
    },
    {
      "cell_type": "markdown",
      "source": [
        "**Converting to List**\n",
        "\n",
        "We can use the list() method to convert the following tuple to a list. Because the syntax for creating a list uses parentheses, make sure to include the parentheses of the list() method, and in this case the print() method as well:"
      ],
      "metadata": {
        "id": "5dXRP8LhAogU"
      }
    },
    {
      "cell_type": "code",
      "source": [
        "identity = (\"Salsabila Grace\", \"21\", \"Jakarta\", \"Universitas Pendidikan Indonesia\")\n",
        "type(identity)"
      ],
      "metadata": {
        "colab": {
          "base_uri": "https://localhost:8080/"
        },
        "id": "ab392gGnA_Q-",
        "outputId": "77189d22-a2d0-4194-e218-b49869af0eb1"
      },
      "execution_count": null,
      "outputs": [
        {
          "output_type": "execute_result",
          "data": {
            "text/plain": [
              "tuple"
            ]
          },
          "metadata": {},
          "execution_count": 85
        }
      ]
    },
    {
      "cell_type": "code",
      "source": [
        "list(identity)"
      ],
      "metadata": {
        "colab": {
          "base_uri": "https://localhost:8080/"
        },
        "id": "Ju8BYzaOB--y",
        "outputId": "6413faea-a08b-4b5d-a84d-849a7b59c8a3"
      },
      "execution_count": null,
      "outputs": [
        {
          "output_type": "execute_result",
          "data": {
            "text/plain": [
              "['Salsabila Grace', '21', 'Jakarta', 'Universitas Pendidikan Indonesia']"
            ]
          },
          "metadata": {},
          "execution_count": 86
        }
      ]
    },
    {
      "cell_type": "code",
      "source": [
        "print(type(list(identity)))"
      ],
      "metadata": {
        "colab": {
          "base_uri": "https://localhost:8080/"
        },
        "id": "6z9FAdwaCR_V",
        "outputId": "ed8b974d-38ac-444e-de05-7d158b4a3c2f"
      },
      "execution_count": null,
      "outputs": [
        {
          "output_type": "stream",
          "name": "stdout",
          "text": [
            "<class 'list'>\n"
          ]
        }
      ]
    },
    {
      "cell_type": "markdown",
      "source": [
        "Just like tuples, strings can be converted to lists:"
      ],
      "metadata": {
        "id": "RAQT7O2uC2mg"
      }
    },
    {
      "cell_type": "code",
      "source": [
        "\"Coral\"\n",
        "print(list(\"Coral\"))"
      ],
      "metadata": {
        "colab": {
          "base_uri": "https://localhost:8080/"
        },
        "id": "UbG7w2-TC3es",
        "outputId": "ba475f7f-8dbe-4bd8-c2b6-24951c88e1ca"
      },
      "execution_count": null,
      "outputs": [
        {
          "output_type": "stream",
          "name": "stdout",
          "text": [
            "['C', 'o', 'r', 'a', 'l']\n"
          ]
        }
      ]
    },
    {
      "cell_type": "markdown",
      "source": [
        "**Converting to Set**\n",
        "\n",
        "We can converting data type list to set. For example:"
      ],
      "metadata": {
        "id": "xChDkb4tCXBa"
      }
    },
    {
      "cell_type": "code",
      "source": [
        "hp_brand = [\"Apple\",\"Xiaomi\",\"Samsung\",\"Oppo\"]\n",
        "type(hp_brand)"
      ],
      "metadata": {
        "colab": {
          "base_uri": "https://localhost:8080/"
        },
        "id": "cQCj_S-6DIRN",
        "outputId": "0ace5286-5c11-4e94-c44f-4e1091ccd3d6"
      },
      "execution_count": null,
      "outputs": [
        {
          "output_type": "execute_result",
          "data": {
            "text/plain": [
              "list"
            ]
          },
          "metadata": {},
          "execution_count": 91
        }
      ]
    },
    {
      "cell_type": "code",
      "source": [
        "set(hp_brand)"
      ],
      "metadata": {
        "colab": {
          "base_uri": "https://localhost:8080/"
        },
        "id": "5IqZ1rlYDd42",
        "outputId": "141f1751-8370-4f79-f321-35e3a6124c3d"
      },
      "execution_count": null,
      "outputs": [
        {
          "output_type": "execute_result",
          "data": {
            "text/plain": [
              "{'Apple', 'Oppo', 'Samsung', 'Xiaomi'}"
            ]
          },
          "metadata": {},
          "execution_count": 92
        }
      ]
    },
    {
      "cell_type": "code",
      "source": [
        "print(type(set(hp_brand)))"
      ],
      "metadata": {
        "colab": {
          "base_uri": "https://localhost:8080/"
        },
        "id": "oMMkdPgADsMx",
        "outputId": "050fd9c7-5523-41b8-8be9-5bd2071a150f"
      },
      "execution_count": null,
      "outputs": [
        {
          "output_type": "stream",
          "name": "stdout",
          "text": [
            "<class 'set'>\n"
          ]
        }
      ]
    },
    {
      "cell_type": "markdown",
      "source": [
        "**Converting to Dictionary**\n",
        "\n",
        "If we want to converting data type to a dictionary, the data must meet the key-value requirements. \n",
        "\n",
        "Here are two examples of conversions:\n",
        "1.   A list of several lists containing value pairs becomes a dictionary\n",
        "2.   As well as converting a List of several tuples containing value pairs into a dictionary"
      ],
      "metadata": {
        "id": "U8TEX4oVEFjB"
      }
    },
    {
      "cell_type": "code",
      "source": [
        "#Converting a list that containing value pairs to a dictionary\n",
        "\n",
        "[[7,8],[2,3]]\n",
        "dict([[7,8],[2,3]])"
      ],
      "metadata": {
        "colab": {
          "base_uri": "https://localhost:8080/"
        },
        "id": "IAnYA3leE3AH",
        "outputId": "7389dc5e-bd58-4ead-c4be-aa18083257c4"
      },
      "execution_count": null,
      "outputs": [
        {
          "output_type": "execute_result",
          "data": {
            "text/plain": [
              "{2: 3, 7: 8}"
            ]
          },
          "metadata": {},
          "execution_count": 98
        }
      ]
    },
    {
      "cell_type": "code",
      "source": [
        "#Converting list of several tuples to a dictionary\n",
        "\n",
        "((4,5),(6,7))\n",
        "dict(((4,5),(6,7)))"
      ],
      "metadata": {
        "id": "v93A8BzNFQvf"
      },
      "execution_count": null,
      "outputs": []
    },
    {
      "cell_type": "markdown",
      "source": [
        "**EVAL() FUNCTION **\n"
      ],
      "metadata": {
        "id": "XPyk4ENyIkj-"
      }
    },
    {
      "cell_type": "markdown",
      "source": [
        "If the input is a string containing a mathematical expression, then conversion to int() or float() will return an error. You can use the eval() function which also solves mathematical expressions"
      ],
      "metadata": {
        "id": "nBU_kRUkF-pQ"
      }
    },
    {
      "cell_type": "code",
      "source": [
        "\"40-20\"\n",
        "int(\"40-20\") #It shows an error because the string containing a math expression"
      ],
      "metadata": {
        "colab": {
          "base_uri": "https://localhost:8080/",
          "height": 185
        },
        "id": "9LiEYcNRGJv4",
        "outputId": "29fdb847-1bd1-47f8-b5a6-d172e9240646"
      },
      "execution_count": null,
      "outputs": [
        {
          "output_type": "error",
          "ename": "ValueError",
          "evalue": "ignored",
          "traceback": [
            "\u001b[0;31m---------------------------------------------------------------------------\u001b[0m",
            "\u001b[0;31mValueError\u001b[0m                                Traceback (most recent call last)",
            "\u001b[0;32m<ipython-input-101-aae5a03cb815>\u001b[0m in \u001b[0;36m<module>\u001b[0;34m()\u001b[0m\n\u001b[1;32m      1\u001b[0m \u001b[0;34m\"40-20\"\u001b[0m\u001b[0;34m\u001b[0m\u001b[0;34m\u001b[0m\u001b[0m\n\u001b[0;32m----> 2\u001b[0;31m \u001b[0mint\u001b[0m\u001b[0;34m(\u001b[0m\u001b[0;34m\"40-20\"\u001b[0m\u001b[0;34m)\u001b[0m\u001b[0;34m\u001b[0m\u001b[0;34m\u001b[0m\u001b[0m\n\u001b[0m",
            "\u001b[0;31mValueError\u001b[0m: invalid literal for int() with base 10: '40-20'"
          ]
        }
      ]
    },
    {
      "cell_type": "code",
      "source": [
        "eval(\"40-20\")"
      ],
      "metadata": {
        "colab": {
          "base_uri": "https://localhost:8080/"
        },
        "id": "sFdqVJCpGRkQ",
        "outputId": "559bb40c-8087-4c2b-9d0b-0093b778d79e"
      },
      "execution_count": null,
      "outputs": [
        {
          "output_type": "execute_result",
          "data": {
            "text/plain": [
              "20"
            ]
          },
          "metadata": {},
          "execution_count": 103
        }
      ]
    },
    {
      "cell_type": "code",
      "source": [
        "type(eval(\"40-20\"))"
      ],
      "metadata": {
        "colab": {
          "base_uri": "https://localhost:8080/"
        },
        "id": "xR9VgONwHarj",
        "outputId": "c623a519-04cd-406e-8862-6096b5f240d1"
      },
      "execution_count": null,
      "outputs": [
        {
          "output_type": "execute_result",
          "data": {
            "text/plain": [
              "int"
            ]
          },
          "metadata": {},
          "execution_count": 105
        }
      ]
    },
    {
      "cell_type": "markdown",
      "source": [
        "# Input and Output"
      ],
      "metadata": {
        "id": "Zwh1XSGspadS"
      }
    },
    {
      "cell_type": "markdown",
      "source": [
        "**Variable**\n",
        "\n",
        "Variable is a place (in computer memory) to store values ​​of a certain data type. To assign a value to a variable, we use the \"=\" operator, between the variable name and the value we want to store"
      ],
      "metadata": {
        "id": "7ew8UcknJsuC"
      }
    },
    {
      "cell_type": "code",
      "source": [
        "x = 50\n",
        "\n",
        "#It means that we will store the value 50 (int type) into the variable x"
      ],
      "metadata": {
        "id": "PthKY1DwJrR2"
      },
      "execution_count": null,
      "outputs": []
    },
    {
      "cell_type": "markdown",
      "source": [
        "**Print**\n",
        "\n",
        "The print() function prints the given object to the standard output device (screen) or to the text stream file."
      ],
      "metadata": {
        "id": "tPvEaMNkKgJP"
      }
    },
    {
      "cell_type": "code",
      "execution_count": null,
      "metadata": {
        "id": "3y8pz5L455uI",
        "colab": {
          "base_uri": "https://localhost:8080/"
        },
        "outputId": "fe08d1b8-4a3e-46f9-824c-cc0162c04219"
      },
      "outputs": [
        {
          "output_type": "stream",
          "name": "stdout",
          "text": [
            "Data Science Track\n"
          ]
        }
      ],
      "source": [
        "program = \"Data Science Track\"\n",
        "print(program)"
      ]
    },
    {
      "cell_type": "markdown",
      "source": [
        "**Entering a variable value in a string**\n",
        "\n",
        "Python has several ways to include variable values ​​in strings there are:"
      ],
      "metadata": {
        "id": "hsbi3bbQMz9W"
      }
    },
    {
      "cell_type": "markdown",
      "source": [
        "**1. Directly concatenate variables in the print() statement**\n",
        "\n",
        "\n"
      ],
      "metadata": {
        "id": "5b_3AUaROXkI"
      }
    },
    {
      "cell_type": "code",
      "source": [
        "a = 9\n",
        "print('The value of variable a is', a)"
      ],
      "metadata": {
        "colab": {
          "base_uri": "https://localhost:8080/"
        },
        "id": "mV_DyYL3O0L1",
        "outputId": "1e5985b6-dec0-425c-996b-54f0f5b2fa9e"
      },
      "execution_count": null,
      "outputs": [
        {
          "output_type": "stream",
          "name": "stdout",
          "text": [
            "The value of variable a is 9\n"
          ]
        }
      ]
    },
    {
      "cell_type": "markdown",
      "source": [
        "**2. Formatting**\n",
        "\n",
        "Sometimes we would like to format our output to make it look attractive. This can be done by using the .format() method. This method is visible to any string object."
      ],
      "metadata": {
        "id": "nPwMn1xbPFUs"
      }
    },
    {
      "cell_type": "code",
      "source": [
        "print(\"Hello! My name is {}\".format(\"Seo Dal Mi\"))"
      ],
      "metadata": {
        "colab": {
          "base_uri": "https://localhost:8080/"
        },
        "id": "Dn2bQJ7FPE0n",
        "outputId": "40fe7b53-23c0-4d8b-c4f2-a6e470d454e3"
      },
      "execution_count": null,
      "outputs": [
        {
          "output_type": "stream",
          "name": "stdout",
          "text": [
            "Hello! My name is Seo Dal Mi\n"
          ]
        }
      ]
    },
    {
      "cell_type": "markdown",
      "source": [
        "The curly braces {} are used as placeholders. We can specify the order in which they are printed by using numbers (tuple index)."
      ],
      "metadata": {
        "id": "0vE0GEA9QUO0"
      }
    },
    {
      "cell_type": "code",
      "source": [
        "print('My name is {0} and I like {1}'.format('Farah','drawing'))"
      ],
      "metadata": {
        "colab": {
          "base_uri": "https://localhost:8080/"
        },
        "id": "8GkiN3HLQTAE",
        "outputId": "bdd7584b-fc06-48d5-a1d5-32687e49468b"
      },
      "execution_count": null,
      "outputs": [
        {
          "output_type": "stream",
          "name": "stdout",
          "text": [
            "My name is Farah and I like drawing\n"
          ]
        }
      ]
    },
    {
      "cell_type": "markdown",
      "source": [
        "**3. Using \"%\" operator added with \"Argument specifiers\"**\n",
        "\n",
        "We can also format strings like the old sprintf() style used in C programming language. We use the % operator to accomplish this.\n",
        "\n",
        "Some examples of commonly used argument specifiers:\n",
        "* %s - String\n",
        "* %d - Integers\n",
        "* %f - Float(Decimal Number)"
      ],
      "metadata": {
        "id": "OH9fiq9Z5bS7"
      }
    },
    {
      "cell_type": "code",
      "source": [
        "nama = \"Justin Bieber\"\n",
        "umur = 28\n",
        "tinggi = 178\n",
        "\n",
        "print (\"Hello %s, saat ini umurmu %d tahun dan tinggi badanmu %f cm\" %(nama, umur, tinggi))"
      ],
      "metadata": {
        "colab": {
          "base_uri": "https://localhost:8080/"
        },
        "id": "Nj7xj0J_5NHE",
        "outputId": "5f5cc359-2d6f-41a5-b707-3544ced0bf14"
      },
      "execution_count": null,
      "outputs": [
        {
          "output_type": "stream",
          "name": "stdout",
          "text": [
            "Hello Justin Bieber, saat ini umurmu 28 tahun dan tinggi badanmu 178.000000 cm\n"
          ]
        }
      ]
    },
    {
      "cell_type": "markdown",
      "source": [
        "**Function Input()**\n",
        "\n",
        "To allow the user to provide input to your code program, use the input() function where the argument in brackets() is the text you want to display (the prompt) and the variable before the equal sign(=) is the resultant holder of the user's input:"
      ],
      "metadata": {
        "id": "aesOXZuZ9GoF"
      }
    },
    {
      "cell_type": "code",
      "source": [
        "num1 = int(input(\"Enter first number : \"))\n",
        "num2 = int(input(\"Enter second number : \"))\n",
        "result = num1* num2\n",
        "print(\"The result of the multiplication is\", result)"
      ],
      "metadata": {
        "colab": {
          "base_uri": "https://localhost:8080/"
        },
        "id": "RuJ6CeWH9ZE4",
        "outputId": "23127ac0-09bd-497a-b705-d1dab7518e49"
      },
      "execution_count": null,
      "outputs": [
        {
          "output_type": "stream",
          "name": "stdout",
          "text": [
            "Enter first number : 6\n",
            "Enter second number : 7\n",
            "The result of the multiplication is 42\n"
          ]
        }
      ]
    },
    {
      "cell_type": "code",
      "source": [
        "nama = input(\"Masukkan nama: \")\n",
        "umur = input(\"Masukkan umur: \")\n",
        "tinggi = input(\"Masukkan tinggi badan: \")\n",
        "print(\"Halo! nama kamu adalah\", nama, \"usiamu sekarang\",umur, \"tinggimu\",tinggi)"
      ],
      "metadata": {
        "colab": {
          "base_uri": "https://localhost:8080/"
        },
        "id": "ZqKSDTWE-Iws",
        "outputId": "9965fa9c-362d-4ea9-ab1f-4dcff1c574aa"
      },
      "execution_count": null,
      "outputs": [
        {
          "output_type": "stream",
          "name": "stdout",
          "text": [
            "Masukkan nama: Calistha\n",
            "Masukkan umur: 21\n",
            "Masukkan tinggi badan: 165\n",
            "Halo! nama kamu adalah Calistha usiamu sekarang 21 tinggimu 165\n"
          ]
        }
      ]
    },
    {
      "cell_type": "markdown",
      "source": [
        "# List, set and string operations\n",
        "\n"
      ],
      "metadata": {
        "id": "YCC6uRuY-WIH"
      }
    },
    {
      "cell_type": "markdown",
      "source": [
        "1. List Operations\n",
        "\n",
        "List responds to operators + and * like strings. That means the merger and repetition here also applies, unless the result is a new list, not a String."
      ],
      "metadata": {
        "id": "mBaExyfG-h-x"
      }
    },
    {
      "cell_type": "code",
      "source": [
        "Item = ['table', 'chair', 'cupboard', 'window']\n",
        "number = [1,2,3,4,5]"
      ],
      "metadata": {
        "id": "jFAiWdrb_IjU"
      },
      "execution_count": null,
      "outputs": []
    },
    {
      "cell_type": "code",
      "source": [
        "print(len(Item)) #indicates many objects on the list.\n",
        "print(Item+number) #Adding objects on item and number\n",
        "print(number*2) #multiplication list in number twice\n",
        "print(3 in number) #Check if 3 is in the list number"
      ],
      "metadata": {
        "colab": {
          "base_uri": "https://localhost:8080/"
        },
        "id": "3oimfRZe_rt0",
        "outputId": "df20759f-2454-4740-c0ff-f3c66b6514b3"
      },
      "execution_count": null,
      "outputs": [
        {
          "output_type": "stream",
          "name": "stdout",
          "text": [
            "4\n",
            "['table', 'chair', 'cupboard', 'window', 1, 2, 3, 4, 5]\n",
            "[1, 2, 3, 4, 5, 1, 2, 3, 4, 5]\n",
            "True\n"
          ]
        }
      ]
    },
    {
      "cell_type": "markdown",
      "source": [
        "2. Set Operations\n",
        "\n",
        "In set, the operations performed are useful for the data processing process, that is union function (combined), intersection function (slice), difference function (difference), symmetric difference function (complement)"
      ],
      "metadata": {
        "id": "s7OSasspAiDd"
      }
    },
    {
      "cell_type": "code",
      "source": [
        "Age1 = {22, 13, 17, 14}\n",
        "Age2 = {20, 24, 17, 22}"
      ],
      "metadata": {
        "id": "16rxGoy3B_fV"
      },
      "execution_count": null,
      "outputs": []
    },
    {
      "cell_type": "code",
      "source": [
        "print(Age1.union(Age2)) #combine data on age1 and age2\n",
        "print(Age1.intersection(Age2)) #Take data who belong to age1 and age2\n",
        "print(Age1.difference(Age2)) #retrieve data on age1 that is not data in age2\n",
        "print(Age1.symmetric_difference(Age2)) #Displays data that is only in one variabel"
      ],
      "metadata": {
        "colab": {
          "base_uri": "https://localhost:8080/"
        },
        "id": "CGhVT7npCSpU",
        "outputId": "89229e42-b7af-48b3-9827-01cd7fd4466d"
      },
      "execution_count": null,
      "outputs": [
        {
          "output_type": "stream",
          "name": "stdout",
          "text": [
            "{13, 14, 17, 20, 22, 24}\n",
            "{17, 22}\n",
            "{13, 14}\n",
            "{13, 14, 20, 24}\n"
          ]
        }
      ]
    },
    {
      "cell_type": "markdown",
      "source": [
        "3. String Operations\n",
        "\n",
        "Strings can be expressed using single quotation marks (''), double quotation marks (\"\"), three pairs of single quotation marks (\"\"'\"'), or three pairs of double quotation marks (\"\"\"\"). String operations using +, and *operators, and using the len, max, min functions can be executed as in the list or tuple."
      ],
      "metadata": {
        "id": "5lImvHwoDx2w"
      }
    },
    {
      "cell_type": "code",
      "source": [
        "info1 = \"This week is the sixth week of Independent study activities. \"\n",
        "info2 = \"In this week there is also a lot of new science that my colleagues and I have learned.\""
      ],
      "metadata": {
        "id": "mExFx4BHF5Wk"
      },
      "execution_count": null,
      "outputs": []
    },
    {
      "cell_type": "code",
      "source": [
        "print(info1 + info2) #adding the sentences in info1 and info2\n",
        "print(len(info1)) #count the length of a character in info1\n",
        "print(info1*2)  #multiply the sentence in info1 by 2 times\n",
        "print(max(info2)) #search for the largest alphabetical order of sentences in info2"
      ],
      "metadata": {
        "colab": {
          "base_uri": "https://localhost:8080/"
        },
        "id": "ekoRbrtCHhyz",
        "outputId": "5d8fc812-c88e-4b42-bffe-724936b9246a"
      },
      "execution_count": null,
      "outputs": [
        {
          "output_type": "stream",
          "name": "stdout",
          "text": [
            "This week is the sixth week of Independent study activities. In this week there is also a lot of new science that my colleagues and I have learned.\n",
            "61\n",
            "This week is the sixth week of Independent study activities. This week is the sixth week of Independent study activities. \n",
            "y\n"
          ]
        }
      ]
    },
    {
      "cell_type": "markdown",
      "source": [
        "# Operator, Operand, and Expressions"
      ],
      "metadata": {
        "id": "zUeIqL7rOn8w"
      }
    },
    {
      "cell_type": "markdown",
      "source": [
        "***Operator*** is an instruction given to get the results of a process carried out. ***Operand*** is the origin value used in an operation process. ***Expression*** is a syntactic entity that generates a value, where usually the expression can consist of operator and operand.\n",
        "\n",
        "For example, in operation 1 + 2. The numbers 1 and 2 are **operands**, the + sign is referred to **operator**, while 1 + 2 is referred to as the **expression**.\n",
        "\n",
        "There are various types of operators used in the Pyhton, as follows.\n",
        "1. Arithmetic Operator (Operator Aritmatika), \n",
        "2. Comparison Operator (Operator Perbandingan), \n",
        "3. Assignment Operator (Operator Penugasan),\n",
        "4. Logical Operator (Operator Logika),\n",
        "5. Bitwise Operator (Operator Bitwise), \n",
        "6. Membership Operator (Operator Membership), and\n",
        "7. Identity Operator (Operator Identitas).\n",
        "\n"
      ],
      "metadata": {
        "id": "-79TlF7ZOuDq"
      }
    },
    {
      "cell_type": "markdown",
      "source": [
        "*1. Arithmetic Operator (Operator Aritmatika)*\n",
        "\n",
        "Arithmetic Operator is an operator used to perform mathematical operations such as sum, subtraction, division, multiplication, and others."
      ],
      "metadata": {
        "id": "5THstR_iTrlw"
      }
    },
    {
      "cell_type": "code",
      "source": [
        "a = 7\n",
        "b = 3"
      ],
      "metadata": {
        "id": "QhtuaxjlXgpx"
      },
      "execution_count": null,
      "outputs": []
    },
    {
      "cell_type": "code",
      "source": [
        "print(a+b) #(+), indicates sum\n",
        "print(a-b) #(-), indicates subtraction\n",
        "print(a/b) #(/), indicates division\n",
        "print(a*b) #(*), indicates multiplication\n",
        "print(a**b) #(**), indicates power\n",
        "print(a//b) #(//), indicates division (rounded down)\n",
        "print(a%b) #(%), indicates enrichment"
      ],
      "metadata": {
        "colab": {
          "base_uri": "https://localhost:8080/"
        },
        "id": "6XzX-RvyR_Lw",
        "outputId": "889fa922-3fe4-40fe-997e-aaffa6ac2a79"
      },
      "execution_count": null,
      "outputs": [
        {
          "output_type": "stream",
          "name": "stdout",
          "text": [
            "10\n",
            "4\n",
            "2.3333333333333335\n",
            "21\n",
            "343\n",
            "2\n",
            "1\n"
          ]
        }
      ]
    },
    {
      "cell_type": "markdown",
      "source": [
        "*2. Comparasion Operator (Operator Perbandingan)*\n",
        "\n",
        "Comparison operators are used to compare 2 values. The result is true or false."
      ],
      "metadata": {
        "id": "ZivDaOlOYCle"
      }
    },
    {
      "cell_type": "code",
      "source": [
        "x = 4\n",
        "y = 2\n",
        "z = 7"
      ],
      "metadata": {
        "id": "A5LaEWiVYOGL"
      },
      "execution_count": null,
      "outputs": []
    },
    {
      "cell_type": "code",
      "source": [
        "print(x == y)  #(==), indicates equal to\n",
        "print(x != z)  #(!=), indicates not equal to\n",
        "print(z > x)   #(>), indicates greater than\n",
        "print(y >= x)  #(>=), indicates greater than or equal to\n",
        "print(y < z)   #(<), indicates less than\n",
        "print(z <= y)  #(<=), indicates less than or equal to"
      ],
      "metadata": {
        "colab": {
          "base_uri": "https://localhost:8080/"
        },
        "id": "2r2FEZ8aYzmI",
        "outputId": "d51cd201-2207-4364-dd7f-e3c47c949dd5"
      },
      "execution_count": null,
      "outputs": [
        {
          "output_type": "stream",
          "name": "stdout",
          "text": [
            "False\n",
            "True\n",
            "True\n",
            "False\n",
            "True\n",
            "False\n"
          ]
        }
      ]
    },
    {
      "cell_type": "markdown",
      "source": [
        "*3. Assignment Operator (Operator Penugasan)*\n",
        "\n",
        "Assignment operators are used to assign values to variables. In Python, the assignment operator uses the same sign as (=). Assignment operators also have a writing variation referred to as a compound assignment operator."
      ],
      "metadata": {
        "id": "mKeS2cTRbCAE"
      }
    },
    {
      "cell_type": "code",
      "source": [
        "x=4   \n",
        "x+=3  #Adding x with 3\n",
        "print(x)"
      ],
      "metadata": {
        "colab": {
          "base_uri": "https://localhost:8080/"
        },
        "id": "DtHpf77Pc8Ib",
        "outputId": "1167560c-8900-4c42-dbb7-3563d2321f6a"
      },
      "execution_count": null,
      "outputs": [
        {
          "output_type": "stream",
          "name": "stdout",
          "text": [
            "7\n"
          ]
        }
      ]
    },
    {
      "cell_type": "code",
      "source": [
        "y=12\n",
        "y-=7  #Subtract y with 7\n",
        "print(y)"
      ],
      "metadata": {
        "colab": {
          "base_uri": "https://localhost:8080/"
        },
        "id": "YDnPnpALdiGf",
        "outputId": "e4a2cd54-a7b5-4f38-f0a5-d95f617e1af6"
      },
      "execution_count": null,
      "outputs": [
        {
          "output_type": "stream",
          "name": "stdout",
          "text": [
            "5\n"
          ]
        }
      ]
    },
    {
      "cell_type": "code",
      "source": [
        "z=30\n",
        "z/=3  #Div z with 3\n",
        "print(z)"
      ],
      "metadata": {
        "colab": {
          "base_uri": "https://localhost:8080/"
        },
        "id": "DsqTsAn4dpnE",
        "outputId": "50acd41e-e976-4f0b-8e93-e568c5c4f59e"
      },
      "execution_count": null,
      "outputs": [
        {
          "output_type": "stream",
          "name": "stdout",
          "text": [
            "10.0\n"
          ]
        }
      ]
    },
    {
      "cell_type": "markdown",
      "source": [
        "*4. Logical Operator (Operator Logika)*\n",
        "\n",
        "Logic operator is an operator used in logic operations, such as and, or, or note logic.\n"
      ],
      "metadata": {
        "id": "H6zNbhbjeqiB"
      }
    },
    {
      "cell_type": "code",
      "source": [
        "w = 4\n",
        "x = 4\n",
        "y = 7\n",
        "z =10"
      ],
      "metadata": {
        "id": "JHluiZu7fg1M"
      },
      "execution_count": null,
      "outputs": []
    },
    {
      "cell_type": "code",
      "source": [
        "print(w > 1 and y > 1)  #if both are true, the result will be true.\n",
        "print(w < 1 and y < 1)  #if one of expressions is false then the result will be false\n",
        "print(y < z or w > x)   #if one is true, the result will be true.\n",
        "print(y > z or w < x)   #if both are false, then the result will be false.\n",
        "print(not(w > 1 and y > 1))  #if the result is true, then it will return the false, and vice versa"
      ],
      "metadata": {
        "colab": {
          "base_uri": "https://localhost:8080/"
        },
        "id": "Q4HH9te9gDaW",
        "outputId": "b82ef216-3a72-47a1-b3ef-16989eb071a4"
      },
      "execution_count": null,
      "outputs": [
        {
          "output_type": "stream",
          "name": "stdout",
          "text": [
            "True\n",
            "False\n",
            "True\n",
            "False\n",
            "False\n"
          ]
        }
      ]
    },
    {
      "cell_type": "markdown",
      "source": [
        "5. Bitwise Operator\n",
        "\n",
        "Bitwise is a special operator for handling the logical operation of binary numbers in the form of bits. Bitwise operators are not used very often, unless you are creating a program that must process the bits of the computer. In addition, these operators are quite complicated and must have an understanding of binary number systems."
      ],
      "metadata": {
        "id": "0V4iVdQKjYRV"
      }
    },
    {
      "cell_type": "code",
      "source": [
        "print(8 & 4) #if the two bits are equally 1, then the result is also 1, in addition to the condition, the final value is 0. 8 = 1000 and 4 = 0100, so the result is 0 = 0000\n",
        "print(8 | 4) #the result will be 0 if both bits are 0, in addition the bit value will be set to 1. 8 = 1000 and 4 = 0100, so the result is 12 = 1100\n",
        "print(8 ^ 4) #if the two bits are different, the result is 1 but if it is both 0 or equally 1, the result is 0. "
      ],
      "metadata": {
        "colab": {
          "base_uri": "https://localhost:8080/"
        },
        "id": "z-RoUd1NokxV",
        "outputId": "7cfa823d-bb89-4661-c88e-2efd06d2e5fa"
      },
      "execution_count": null,
      "outputs": [
        {
          "output_type": "stream",
          "name": "stdout",
          "text": [
            "0\n",
            "12\n",
            "12\n"
          ]
        }
      ]
    },
    {
      "cell_type": "markdown",
      "source": [
        "*6. Membership Operator (Operator Membership)*\n",
        "\n",
        "Membership operators are used to test whether a sequence is presented in an object. "
      ],
      "metadata": {
        "id": "oYkOsSoxspdO"
      }
    },
    {
      "cell_type": "code",
      "source": [
        "Animals = ['Chicken', 'Cat', 'Dear', 'Lion', 'Crocodile']"
      ],
      "metadata": {
        "id": "ijHKMqH6tH5T"
      },
      "execution_count": null,
      "outputs": []
    },
    {
      "cell_type": "code",
      "source": [
        "print('Chicken' in Animals) #returns true when on the list, and false if not on the list"
      ],
      "metadata": {
        "colab": {
          "base_uri": "https://localhost:8080/"
        },
        "id": "Wl_i3BqMtTGW",
        "outputId": "51b38054-ae95-4c06-e60f-5fa57d839059"
      },
      "execution_count": null,
      "outputs": [
        {
          "output_type": "stream",
          "name": "stdout",
          "text": [
            "True\n"
          ]
        }
      ]
    },
    {
      "cell_type": "code",
      "source": [
        "print('Dog' in Animals) #returns true when on the list, and false if not on the list"
      ],
      "metadata": {
        "colab": {
          "base_uri": "https://localhost:8080/"
        },
        "id": "MZ_4wm9etkDt",
        "outputId": "31291cf4-f7f6-4ef2-9dfb-843ee88ffc4c"
      },
      "execution_count": null,
      "outputs": [
        {
          "output_type": "stream",
          "name": "stdout",
          "text": [
            "False\n"
          ]
        }
      ]
    },
    {
      "cell_type": "code",
      "source": [
        "print('Crocodile' not in Animals) #returns true when the data is not on the list, but return false if the data on the list"
      ],
      "metadata": {
        "colab": {
          "base_uri": "https://localhost:8080/"
        },
        "id": "htsnQ5ujtq_E",
        "outputId": "98ccfb76-f483-47a4-f3d9-ad27e1f6c8b2"
      },
      "execution_count": null,
      "outputs": [
        {
          "output_type": "stream",
          "name": "stdout",
          "text": [
            "False\n"
          ]
        }
      ]
    },
    {
      "cell_type": "code",
      "source": [
        "print('Bird' not in Animals) #returns true when the data is not on the list, but return false if the data on the list"
      ],
      "metadata": {
        "colab": {
          "base_uri": "https://localhost:8080/"
        },
        "id": "mlW5FWspuTEw",
        "outputId": "0db777b1-9ba1-499a-b878-27733f02cb21"
      },
      "execution_count": null,
      "outputs": [
        {
          "output_type": "stream",
          "name": "stdout",
          "text": [
            "True\n"
          ]
        }
      ]
    },
    {
      "cell_type": "markdown",
      "source": [
        "7. Identity Operator (Operator Identitas)\n",
        "\n",
        "Identity operators are used to compare objects, whether they are the same object or not."
      ],
      "metadata": {
        "id": "BaZbqRe5urim"
      }
    },
    {
      "cell_type": "code",
      "source": [
        "a = 8\n",
        "b = 8\n",
        "c = 4"
      ],
      "metadata": {
        "id": "ygSdq-8QvZw2"
      },
      "execution_count": null,
      "outputs": []
    },
    {
      "cell_type": "code",
      "source": [
        "a is b #Returns True if both variables are the same object"
      ],
      "metadata": {
        "colab": {
          "base_uri": "https://localhost:8080/"
        },
        "id": "G20CubUqwPwI",
        "outputId": "f5400abd-f1d5-44ef-96a4-24db4a8586aa"
      },
      "execution_count": null,
      "outputs": [
        {
          "output_type": "execute_result",
          "data": {
            "text/plain": [
              "True"
            ]
          },
          "metadata": {},
          "execution_count": 62
        }
      ]
    },
    {
      "cell_type": "code",
      "source": [
        "a is c #Returns True if both variables are the same object"
      ],
      "metadata": {
        "colab": {
          "base_uri": "https://localhost:8080/"
        },
        "id": "ryGTXiqHwSnF",
        "outputId": "4978c136-8492-4ab8-9cda-3cdea1f9f776"
      },
      "execution_count": null,
      "outputs": [
        {
          "output_type": "execute_result",
          "data": {
            "text/plain": [
              "False"
            ]
          },
          "metadata": {},
          "execution_count": 63
        }
      ]
    },
    {
      "cell_type": "code",
      "source": [
        "a is not b #Returns True if both variables are not the same object"
      ],
      "metadata": {
        "colab": {
          "base_uri": "https://localhost:8080/"
        },
        "id": "TqVkgV6OwVQ-",
        "outputId": "87a6bbc8-ecab-412d-909b-33c0394eb3f9"
      },
      "execution_count": null,
      "outputs": [
        {
          "output_type": "execute_result",
          "data": {
            "text/plain": [
              "False"
            ]
          },
          "metadata": {},
          "execution_count": 64
        }
      ]
    },
    {
      "cell_type": "markdown",
      "source": [
        "# Dynamic Typing"
      ],
      "metadata": {
        "id": "FR2k6AIH8mfe"
      }
    },
    {
      "cell_type": "markdown",
      "source": [
        "Python applies one of the languages, namely dynamic typing, which is a programming language that only knows the type of variables when the program is running and assignments are made."
      ],
      "metadata": {
        "id": "UHaOKTCd8210"
      }
    },
    {
      "cell_type": "code",
      "source": [
        "a = \"My name is Lupin\"\n",
        "type(a) # Show varible type data"
      ],
      "metadata": {
        "colab": {
          "base_uri": "https://localhost:8080/"
        },
        "id": "RUB1QhHE9Ovk",
        "outputId": "3d00bdd1-5d87-41c8-c8cf-215a58203d46"
      },
      "execution_count": null,
      "outputs": [
        {
          "output_type": "execute_result",
          "data": {
            "text/plain": [
              "str"
            ]
          },
          "metadata": {},
          "execution_count": 6
        }
      ]
    },
    {
      "cell_type": "code",
      "source": [
        "len(a) # Indicates the length of the string and space, but doesn't work to numeric variables (ex. integers)"
      ],
      "metadata": {
        "colab": {
          "base_uri": "https://localhost:8080/"
        },
        "id": "ZBSVIs6CA432",
        "outputId": "7d59d315-926e-45a9-e151-386752baabe3"
      },
      "execution_count": null,
      "outputs": [
        {
          "output_type": "execute_result",
          "data": {
            "text/plain": [
              "16"
            ]
          },
          "metadata": {},
          "execution_count": 7
        }
      ]
    },
    {
      "cell_type": "markdown",
      "source": [
        "# Transform Number, Characters, and String"
      ],
      "metadata": {
        "id": "LGDDtlwdB1SF"
      }
    },
    {
      "cell_type": "markdown",
      "source": [
        "\n",
        "Case Manipulators:\n",
        "1.   .upper()\n",
        "2.   .lower()\n",
        "\n",
        "String Methods:\n",
        "1. .rstrip()\n",
        "2. .lstrip()\n",
        "3. .strip()\n",
        "\n",
        "Testing for Substring-hood:\n",
        "1. .starswith()\n",
        "2. .endswith()"
      ],
      "metadata": {
        "id": "7dnB9ITiCEo0"
      }
    },
    {
      "cell_type": "markdown",
      "source": [
        ".upper()\n",
        "\n",
        "The upper() methods returns the uppercased string from the given string. It converts all lowercase characters to uppercase. If no lowercase characters exist, it returns the original string."
      ],
      "metadata": {
        "id": "ymdiN3WwGJCY"
      }
    },
    {
      "cell_type": "code",
      "source": [
        "name = \"rani andini\"\n",
        "name.upper() # Converting string into it's upper case"
      ],
      "metadata": {
        "colab": {
          "base_uri": "https://localhost:8080/",
          "height": 35
        },
        "id": "rWVOJLVMGp-p",
        "outputId": "c4ba1f5d-c560-4daa-8046-fe6fc1bad9bc"
      },
      "execution_count": null,
      "outputs": [
        {
          "output_type": "execute_result",
          "data": {
            "text/plain": [
              "'RANI ANDINI'"
            ],
            "application/vnd.google.colaboratory.intrinsic+json": {
              "type": "string"
            }
          },
          "metadata": {},
          "execution_count": 8
        }
      ]
    },
    {
      "cell_type": "markdown",
      "source": [
        ".lower()\n",
        "\n",
        "The lower() methods returns the lowercased string from the given string. It converts all uppercase characters to lowercase. If no uppercase characters exist, it returns the original string."
      ],
      "metadata": {
        "id": "wFFbsTosHJ-2"
      }
    },
    {
      "cell_type": "code",
      "source": [
        "now = \"It's Raining\"\n",
        "now.lower() # Converting string into it's lower case"
      ],
      "metadata": {
        "colab": {
          "base_uri": "https://localhost:8080/",
          "height": 35
        },
        "id": "LRaWIsLvHTmZ",
        "outputId": "53e33b91-f7f3-487e-9acc-7bd4b2a4ec34"
      },
      "execution_count": null,
      "outputs": [
        {
          "output_type": "execute_result",
          "data": {
            "text/plain": [
              "\"it's raining\""
            ],
            "application/vnd.google.colaboratory.intrinsic+json": {
              "type": "string"
            }
          },
          "metadata": {},
          "execution_count": 10
        }
      ]
    },
    {
      "cell_type": "markdown",
      "source": [
        "If there are characters such as symbols or numbers in the string, then the characters are not changed."
      ],
      "metadata": {
        "id": "7oHowaCEIg49"
      }
    },
    {
      "cell_type": "code",
      "source": [
        "date = \"26 March 2022\"\n",
        "date.upper() # Number in string not changed"
      ],
      "metadata": {
        "colab": {
          "base_uri": "https://localhost:8080/",
          "height": 35
        },
        "id": "oee2bZo_ImoK",
        "outputId": "2ec29961-53b8-4db0-96e3-9c018c4d5a8d"
      },
      "execution_count": null,
      "outputs": [
        {
          "output_type": "execute_result",
          "data": {
            "text/plain": [
              "'26 MARCH 2022'"
            ],
            "application/vnd.google.colaboratory.intrinsic+json": {
              "type": "string"
            }
          },
          "metadata": {},
          "execution_count": 12
        }
      ]
    },
    {
      "cell_type": "markdown",
      "source": [
        ".rstrip()\n",
        "\n",
        "This method is used to delete whitespace or characters mentioned to the right of a string or ending of a string."
      ],
      "metadata": {
        "id": "WcvIxlULJMSY"
      }
    },
    {
      "cell_type": "code",
      "source": [
        "name = \"   My name's Tom Holland    \"\n",
        "name.rstrip() # Delete all whitespace in the right of a string"
      ],
      "metadata": {
        "colab": {
          "base_uri": "https://localhost:8080/",
          "height": 35
        },
        "id": "8cDbK9yLJKj-",
        "outputId": "b9df9ae3-d86e-412d-9403-92c1a5aa2251"
      },
      "execution_count": null,
      "outputs": [
        {
          "output_type": "execute_result",
          "data": {
            "text/plain": [
              "\"   My name's Tom Holland\""
            ],
            "application/vnd.google.colaboratory.intrinsic+json": {
              "type": "string"
            }
          },
          "metadata": {},
          "execution_count": 13
        }
      ]
    },
    {
      "cell_type": "markdown",
      "source": [
        ".lstring()\n",
        "\n",
        "This method is used to delete whitespace or characters mentioned to the left of a string or beggining of a string."
      ],
      "metadata": {
        "id": "v6dyyav-LqHe"
      }
    },
    {
      "cell_type": "code",
      "source": [
        "home = \"   My house in Los Angeles   \"\n",
        "home.lstrip() # Delete all whitespace in the left of a string"
      ],
      "metadata": {
        "colab": {
          "base_uri": "https://localhost:8080/",
          "height": 35
        },
        "id": "kAYdzXWGMFRD",
        "outputId": "862f3d26-d0d9-43e1-f025-9427c22ad08a"
      },
      "execution_count": null,
      "outputs": [
        {
          "output_type": "execute_result",
          "data": {
            "text/plain": [
              "'My house in Los Angeles   '"
            ],
            "application/vnd.google.colaboratory.intrinsic+json": {
              "type": "string"
            }
          },
          "metadata": {},
          "execution_count": 14
        }
      ]
    },
    {
      "cell_type": "markdown",
      "source": [
        ".strip()\n",
        "\n",
        "This method is used to delete whitespace at the beginning and end of a string, strip() can also specify which characters or parts you want to deleted."
      ],
      "metadata": {
        "id": "eu6LnQIFM7EY"
      }
    },
    {
      "cell_type": "code",
      "source": [
        "pathway = \"----Data Science----\"\n",
        "pathway.strip(\"-\") # Delete all '-'"
      ],
      "metadata": {
        "colab": {
          "base_uri": "https://localhost:8080/",
          "height": 35
        },
        "id": "S2z8cQl1NnJO",
        "outputId": "794bd676-d2b1-4ae6-d25d-29935a7c93ee"
      },
      "execution_count": null,
      "outputs": [
        {
          "output_type": "execute_result",
          "data": {
            "text/plain": [
              "'Data Science'"
            ],
            "application/vnd.google.colaboratory.intrinsic+json": {
              "type": "string"
            }
          },
          "metadata": {},
          "execution_count": 18
        }
      ]
    },
    {
      "cell_type": "code",
      "source": [
        "color = \"Red, Blue, Orange\"\n",
        "color.strip(\"Orange\") # Delete Orange from color variable"
      ],
      "metadata": {
        "colab": {
          "base_uri": "https://localhost:8080/",
          "height": 35
        },
        "id": "J4AeK1mAOQqm",
        "outputId": "6b1bf35e-46cb-4645-ba32-de0acb1e149b"
      },
      "execution_count": null,
      "outputs": [
        {
          "output_type": "execute_result",
          "data": {
            "text/plain": [
              "'Red, Blue, '"
            ],
            "application/vnd.google.colaboratory.intrinsic+json": {
              "type": "string"
            }
          },
          "metadata": {},
          "execution_count": 19
        }
      ]
    },
    {
      "cell_type": "markdown",
      "source": [
        ".startswith()\n",
        "\n",
        "The purpose of this function is to return true if the function begins with mentioned string (prefix) else return false."
      ],
      "metadata": {
        "id": "gjtasXX9PFPl"
      }
    },
    {
      "cell_type": "code",
      "source": [
        "food = \"Ketoprak is Indonesian food\"\n",
        "food.startswith(\"Ketoprak\") , food.startswith(\"Indonesian\")"
      ],
      "metadata": {
        "colab": {
          "base_uri": "https://localhost:8080/"
        },
        "id": "Che5ShLtPYSN",
        "outputId": "1c9e5f22-1c4c-4997-f952-514004c2debe"
      },
      "execution_count": null,
      "outputs": [
        {
          "output_type": "execute_result",
          "data": {
            "text/plain": [
              "(True, False)"
            ]
          },
          "metadata": {},
          "execution_count": 21
        }
      ]
    },
    {
      "cell_type": "markdown",
      "source": [
        ".endswith()\n",
        "\n",
        "The purpose of this function is to return true if the function ends with mentioned string (suffix) else return false."
      ],
      "metadata": {
        "id": "tq3B5iezQMVI"
      }
    },
    {
      "cell_type": "code",
      "source": [
        "food = \"Ketoprak is Indonesian food\"\n",
        "food.endswith(\"food\") , food.endswith(\"Ketoprak\")"
      ],
      "metadata": {
        "colab": {
          "base_uri": "https://localhost:8080/"
        },
        "id": "bwXZL4pCQSfB",
        "outputId": "045e9ccc-cf0d-4025-b659-c1fc0cf33942"
      },
      "execution_count": null,
      "outputs": [
        {
          "output_type": "execute_result",
          "data": {
            "text/plain": [
              "(True, False)"
            ]
          },
          "metadata": {},
          "execution_count": 22
        }
      ]
    },
    {
      "cell_type": "markdown",
      "source": [
        "# Conditional Expression"
      ],
      "metadata": {
        "id": "HuYTL7F3SE5o"
      }
    },
    {
      "cell_type": "markdown",
      "source": [
        "A conditional expression is a tested conditional statement that can contain mathematical operators, functions, and logic. Each conditional expression ends with a colon \":\". Each conditional expression has a command code in writing indents."
      ],
      "metadata": {
        "id": "GR4VkZQYSiwR"
      }
    },
    {
      "cell_type": "markdown",
      "source": [
        "The syntax used to create control flow in the form of conditional expressions in Python is **if**, **if else**, and **elif**"
      ],
      "metadata": {
        "id": "kHhBpvVdTrSD"
      }
    },
    {
      "cell_type": "markdown",
      "source": [
        "\n",
        "* **IF function** \n",
        "\n",
        "The IF function is a branch that is used to determine what actions are taken according to certain conditions.   \n",
        "\n",
        "\n",
        "\n",
        "\n",
        "\n"
      ],
      "metadata": {
        "id": "3MBsO0LrUKYR"
      }
    },
    {
      "cell_type": "code",
      "source": [
        "vaccine = \"Booster\"\n",
        "\n",
        "if vaccine:\n",
        "  print(\"The 3rd vaccine is {}\".format(vaccine))"
      ],
      "metadata": {
        "colab": {
          "base_uri": "https://localhost:8080/"
        },
        "id": "ACMwirTUV_2U",
        "outputId": "9f0ae02d-5fbe-4f05-bba3-bb11856be216"
      },
      "execution_count": null,
      "outputs": [
        {
          "output_type": "stream",
          "name": "stdout",
          "text": [
            "The 3rd vaccine is Booster\n"
          ]
        }
      ]
    },
    {
      "cell_type": "markdown",
      "source": [
        "\n",
        "*   **IF ELSE function**\n",
        "\n",
        "\n",
        "The IF ELSE function is a branch that is not only used to determine actions based on certain conditions, but also determines actions if the stated conditions are not suitable. If IF executes the condition TRUE, the IF ELSE function executes the TRUE and FALSE actions."
      ],
      "metadata": {
        "id": "Rm_uOl4vVfrr"
      }
    },
    {
      "cell_type": "code",
      "source": [
        "vaccine=str(input(\"Vaccine Type: \"))\n",
        "\n",
        "if vaccine == \"Booster\":\n",
        "  print(\"Goo 'Mudik'\")\n",
        "else:\n",
        "  print(\"No 'Mudik'\")"
      ],
      "metadata": {
        "colab": {
          "base_uri": "https://localhost:8080/"
        },
        "id": "v3_PlH4wZL8E",
        "outputId": "b2d09594-0d2b-4b31-e752-c0513941f75f"
      },
      "execution_count": null,
      "outputs": [
        {
          "output_type": "stream",
          "name": "stdout",
          "text": [
            "Vaccine Type: Booster\n",
            "Goo 'Mudik'\n"
          ]
        }
      ]
    },
    {
      "cell_type": "code",
      "source": [
        "vaccine=str(input(\"Vaccine Type: \"))\n",
        "\n",
        "if vaccine == \"Booster\":\n",
        "  print(\"Goo 'Mudik'\")\n",
        "else:\n",
        "  print(\"No 'Mudik'\")"
      ],
      "metadata": {
        "colab": {
          "base_uri": "https://localhost:8080/"
        },
        "id": "bx6VG_bLbGPr",
        "outputId": "8abb580c-4a4d-4a7e-83e1-7e1c74165610"
      },
      "execution_count": null,
      "outputs": [
        {
          "output_type": "stream",
          "name": "stdout",
          "text": [
            "Vaccine Type: Sinovac\n",
            "No 'Mudik'\n"
          ]
        }
      ]
    },
    {
      "cell_type": "markdown",
      "source": [
        "\n",
        "*   **ELIF function**\n",
        "\n",
        "Branching can not only be for two conditions, but can be for three, four, even more branching conditions. The ELIF function is used for more than two branching logics."
      ],
      "metadata": {
        "id": "kIINrqgjVpZV"
      }
    },
    {
      "cell_type": "code",
      "source": [
        "vaccine=str(input(\"Name: \"))\n",
        "vaccine=str(input(\"Vaccine Dose: \"))\n",
        "\n",
        "if vaccine == \"Third Dose\":\n",
        "  print(\"full face-to-face lecture\")\n",
        "elif vaccine == \"Second Dose\":\n",
        "  print(\"face-to-face lecture 50%\")\n",
        "else:\n",
        "  print(\"Online Lecture'\")"
      ],
      "metadata": {
        "colab": {
          "base_uri": "https://localhost:8080/"
        },
        "id": "40LNmIIXSaf2",
        "outputId": "e92ee05f-d1a0-4620-fd8b-329fb730dd2c"
      },
      "execution_count": null,
      "outputs": [
        {
          "output_type": "stream",
          "name": "stdout",
          "text": [
            "Name: Budi\n",
            "Vaccine Dose: Third Dose\n",
            "full face-to-face lecture\n"
          ]
        }
      ]
    },
    {
      "cell_type": "code",
      "source": [
        "vaccine=str(input(\"Name: \"))\n",
        "vaccine=str(input(\"Vaccine Dose: \"))\n",
        "\n",
        "if vaccine == \"Third Dose\":\n",
        "  print(\"full face-to-face lecture\")\n",
        "elif vaccine == \"Second Dose\":\n",
        "  print(\"face-to-face lecture 50%\")\n",
        "else:\n",
        "  print(\"Online Lecture'\")"
      ],
      "metadata": {
        "colab": {
          "base_uri": "https://localhost:8080/"
        },
        "id": "DaXsSYL3fG4t",
        "outputId": "33d70f33-6d5d-41f4-fd05-d3abe6a3645d"
      },
      "execution_count": null,
      "outputs": [
        {
          "output_type": "stream",
          "name": "stdout",
          "text": [
            "Name: Robert\n",
            "Vaccine Dose: Second Dose\n",
            "face-to-face lecture 50%\n"
          ]
        }
      ]
    },
    {
      "cell_type": "code",
      "source": [
        "vaccine=str(input(\"Name: \"))\n",
        "vaccine=str(input(\"Vaccine Dose: \"))\n",
        "\n",
        "if vaccine == \"Third Dose\":\n",
        "  print(\"full face-to-face lecture\")\n",
        "elif vaccine == \"Second Dose\":\n",
        "  print(\"face-to-face lecture 50%\")\n",
        "else:\n",
        "  print(\"Online Lecture\")"
      ],
      "metadata": {
        "colab": {
          "base_uri": "https://localhost:8080/"
        },
        "id": "Kt9E2HHrfNkX",
        "outputId": "37d06472-dc60-43cc-c623-9b4cbf39c563"
      },
      "execution_count": null,
      "outputs": [
        {
          "output_type": "stream",
          "name": "stdout",
          "text": [
            "Name: Kevin\n",
            "Vaccine Dose: First Dose\n",
            "Online Lecture\n"
          ]
        }
      ]
    },
    {
      "cell_type": "markdown",
      "source": [
        "# Replacing String Elements"
      ],
      "metadata": {
        "id": "y5zENx8kfeZF"
      }
    },
    {
      "cell_type": "markdown",
      "source": [
        "replace() is an inbuilt function in the Python programming language that returns a copy of the string where all occurrences of a substring are replaced with another substring."
      ],
      "metadata": {
        "id": "NItHbDmrfja7"
      }
    },
    {
      "cell_type": "code",
      "source": [
        "a = \"sekarang kita sekolah\""
      ],
      "metadata": {
        "id": "8uQg8yb7gHbl"
      },
      "execution_count": null,
      "outputs": []
    },
    {
      "cell_type": "code",
      "source": [
        "print(a.replace(\"sekolah\",\"tidak\"))"
      ],
      "metadata": {
        "colab": {
          "base_uri": "https://localhost:8080/"
        },
        "id": "ms8Fj3voghd0",
        "outputId": "dcab246a-9f13-49ce-fff3-429c5050c691"
      },
      "execution_count": null,
      "outputs": [
        {
          "output_type": "stream",
          "name": "stdout",
          "text": [
            "sekarang kita tidak\n"
          ]
        }
      ]
    },
    {
      "cell_type": "markdown",
      "source": [
        "the third parameter in replace can be filled with the number of substrings you want to replace"
      ],
      "metadata": {
        "id": "2WNs7zQdgz8f"
      }
    },
    {
      "cell_type": "code",
      "source": [
        "a = \"sekarang kita sekolah dan saya membawa bekal\""
      ],
      "metadata": {
        "id": "-XxbGiWuhBOR"
      },
      "execution_count": null,
      "outputs": []
    },
    {
      "cell_type": "code",
      "source": [
        "print(a.replace(\"sekolah\",\"bimbel\", 1))"
      ],
      "metadata": {
        "colab": {
          "base_uri": "https://localhost:8080/"
        },
        "id": "N1q2EMP7hP56",
        "outputId": "624a7490-3564-4821-fc85-88b682f24fe4"
      },
      "execution_count": null,
      "outputs": [
        {
          "output_type": "stream",
          "name": "stdout",
          "text": [
            "sekarang kita bimbel dan saya membawa bekal\n"
          ]
        }
      ]
    },
    {
      "cell_type": "markdown",
      "source": [
        "# String Checking"
      ],
      "metadata": {
        "id": "D9NGAlDnia5f"
      }
    },
    {
      "cell_type": "markdown",
      "source": [
        "The in operator is the easiest and pythonic way to check if a python string contains a substring. The in and not in are membership operators, they take in two arguments and evaluate if one is a member of the other. They return a boolean value."
      ],
      "metadata": {
        "id": "_06EUBLriev-"
      }
    },
    {
      "cell_type": "markdown",
      "source": [
        "Isupper()"
      ],
      "metadata": {
        "id": "1XaJGY13jOvD"
      }
    },
    {
      "cell_type": "markdown",
      "source": [
        "Returns true if the string has at least one cased character and all cased characters are in uppercase and false otherwise."
      ],
      "metadata": {
        "id": "vjzrTfVSmAcE"
      }
    },
    {
      "cell_type": "code",
      "source": [
        "a = \"Metodologi Penelitian\""
      ],
      "metadata": {
        "id": "lBORL2W7jUHQ"
      },
      "execution_count": null,
      "outputs": []
    },
    {
      "cell_type": "code",
      "source": [
        "a.isupper()"
      ],
      "metadata": {
        "colab": {
          "base_uri": "https://localhost:8080/"
        },
        "id": "kN8YLU5vjbxS",
        "outputId": "b36a0824-ddb5-4c4f-bbc8-75c619033145"
      },
      "execution_count": null,
      "outputs": [
        {
          "output_type": "execute_result",
          "data": {
            "text/plain": [
              "False"
            ]
          },
          "metadata": {},
          "execution_count": 9
        }
      ]
    },
    {
      "cell_type": "markdown",
      "source": [
        "Islower()"
      ],
      "metadata": {
        "id": "fBki6SXLkELy"
      }
    },
    {
      "cell_type": "markdown",
      "source": [
        "Returns true if the string has at least 1 cased character and all cased characters are in lowercase and false otherwise."
      ],
      "metadata": {
        "id": "mU1jAU3lmErx"
      }
    },
    {
      "cell_type": "code",
      "source": [
        "a = \"metodologi penelitian\""
      ],
      "metadata": {
        "id": "fQscSoW5kH3_"
      },
      "execution_count": null,
      "outputs": []
    },
    {
      "cell_type": "code",
      "source": [
        "a.islower()"
      ],
      "metadata": {
        "colab": {
          "base_uri": "https://localhost:8080/"
        },
        "id": "uL6LBMiskXhT",
        "outputId": "862f9ba8-72c9-4359-9f3c-1c523643c9c4"
      },
      "execution_count": null,
      "outputs": [
        {
          "output_type": "execute_result",
          "data": {
            "text/plain": [
              "True"
            ]
          },
          "metadata": {},
          "execution_count": 15
        }
      ]
    },
    {
      "cell_type": "code",
      "source": [
        "print(\"metodologi\".lower().upper())"
      ],
      "metadata": {
        "colab": {
          "base_uri": "https://localhost:8080/"
        },
        "id": "A2ZVnNkIkmdE",
        "outputId": "d0b919d7-3601-4524-92de-0a10a7d48fec"
      },
      "execution_count": null,
      "outputs": [
        {
          "output_type": "stream",
          "name": "stdout",
          "text": [
            "METODOLOGI\n"
          ]
        }
      ]
    },
    {
      "cell_type": "code",
      "source": [
        "print(\"metodologi\".upper().lower())"
      ],
      "metadata": {
        "colab": {
          "base_uri": "https://localhost:8080/"
        },
        "id": "0FSnU4aFkzLR",
        "outputId": "fab62cb8-17d8-4d99-e76b-c96658639d09"
      },
      "execution_count": null,
      "outputs": [
        {
          "output_type": "stream",
          "name": "stdout",
          "text": [
            "metodologi\n"
          ]
        }
      ]
    },
    {
      "cell_type": "markdown",
      "source": [
        "Isalpha()"
      ],
      "metadata": {
        "id": "FhBROR7OlDPH"
      }
    },
    {
      "cell_type": "markdown",
      "source": [
        "Returns true if the string has at least 1 character and all characters are alphabetical and false otherwise."
      ],
      "metadata": {
        "id": "3QOsvrFCmLtj"
      }
    },
    {
      "cell_type": "code",
      "source": [
        "print(\"metodologi\".isalpha())"
      ],
      "metadata": {
        "colab": {
          "base_uri": "https://localhost:8080/"
        },
        "id": "XdvSJFYrlFC5",
        "outputId": "b0fa1338-582b-4274-8b10-94bc57ebb4b8"
      },
      "execution_count": null,
      "outputs": [
        {
          "output_type": "stream",
          "name": "stdout",
          "text": [
            "True\n"
          ]
        }
      ]
    },
    {
      "cell_type": "code",
      "source": [
        "print(\"duze\".isalpha())"
      ],
      "metadata": {
        "colab": {
          "base_uri": "https://localhost:8080/"
        },
        "id": "qSWXnOOWlTnq",
        "outputId": "26d2cc54-b6fb-4f23-fdb7-e6cb8c3f3e54"
      },
      "execution_count": null,
      "outputs": [
        {
          "output_type": "stream",
          "name": "stdout",
          "text": [
            "True\n"
          ]
        }
      ]
    },
    {
      "cell_type": "markdown",
      "source": [
        "Isalnum()"
      ],
      "metadata": {
        "id": "KAGJHSpnlfz8"
      }
    },
    {
      "cell_type": "markdown",
      "source": [
        "Returns true if the string has at least 1 character and all characters are alphanumeric and false otherwise."
      ],
      "metadata": {
        "id": "fL2Z85CDmTwo"
      }
    },
    {
      "cell_type": "code",
      "source": [
        "print(\"Metodologi\".isalnum())"
      ],
      "metadata": {
        "colab": {
          "base_uri": "https://localhost:8080/"
        },
        "id": "wygvJZQzllBU",
        "outputId": "022dda00-3772-47b6-9857-ac6490b32924"
      },
      "execution_count": null,
      "outputs": [
        {
          "output_type": "stream",
          "name": "stdout",
          "text": [
            "True\n"
          ]
        }
      ]
    },
    {
      "cell_type": "markdown",
      "source": [
        "Isdecimal()"
      ],
      "metadata": {
        "id": "CSoAEGbzmpsC"
      }
    },
    {
      "cell_type": "markdown",
      "source": [
        "Returns true if the unicode string contains only decimal characters and false otherwise."
      ],
      "metadata": {
        "id": "SUtpTKnEmtw3"
      }
    },
    {
      "cell_type": "code",
      "source": [
        "print(\"Metodologi Penelitian\".isdecimal())"
      ],
      "metadata": {
        "colab": {
          "base_uri": "https://localhost:8080/"
        },
        "id": "w8pfN9ihm42B",
        "outputId": "a4b8f6cb-a806-4e91-ae6b-fca6051fead2"
      },
      "execution_count": null,
      "outputs": [
        {
          "output_type": "stream",
          "name": "stdout",
          "text": [
            "False\n"
          ]
        }
      ]
    },
    {
      "cell_type": "markdown",
      "source": [
        "##Formatting String"
      ],
      "metadata": {
        "id": "vOVbVxyLqReM"
      }
    },
    {
      "cell_type": "markdown",
      "source": [
        "###string.rjust(i)\n",
        "* The rjust(i) method is used to create the text right-align or adjust the text.to the right.\n",
        "* string that used could be in direct text, but also can be in a variable.\n",
        "* This method will add a space to the string to create it.\n",
        "* The parameter i is an integer which is the overall length of the text."
      ],
      "metadata": {
        "id": "CV1yEL94qc1x"
      }
    },
    {
      "cell_type": "code",
      "source": [
        "data = \"Data Science\".rjust(20)"
      ],
      "metadata": {
        "id": "7So_h0-mqbm0"
      },
      "execution_count": null,
      "outputs": []
    },
    {
      "cell_type": "code",
      "source": [
        "print(\"Before: \\nData Science\")\n",
        "print(\"\\nAfter: \\n\", data)"
      ],
      "metadata": {
        "colab": {
          "base_uri": "https://localhost:8080/"
        },
        "id": "yLKQoT-erxS5",
        "outputId": "3a08db35-47ee-490c-a319-5a491eafa64f"
      },
      "execution_count": null,
      "outputs": [
        {
          "output_type": "stream",
          "name": "stdout",
          "text": [
            "Before: \n",
            "Data Science\n",
            "\n",
            "After: \n",
            "         Data Science\n"
          ]
        }
      ]
    },
    {
      "cell_type": "code",
      "source": [
        "data"
      ],
      "metadata": {
        "colab": {
          "base_uri": "https://localhost:8080/",
          "height": 36
        },
        "id": "imq7IB0SsB35",
        "outputId": "ee626b11-343d-4be9-9449-c42c212fe1f3"
      },
      "execution_count": null,
      "outputs": [
        {
          "output_type": "execute_result",
          "data": {
            "text/plain": [
              "'        Data Science'"
            ],
            "application/vnd.google.colaboratory.intrinsic+json": {
              "type": "string"
            }
          },
          "metadata": {},
          "execution_count": 4
        }
      ]
    },
    {
      "cell_type": "code",
      "source": [
        "len(\"Data Science\")"
      ],
      "metadata": {
        "colab": {
          "base_uri": "https://localhost:8080/"
        },
        "id": "CMfH2O6dsLvN",
        "outputId": "d7064844-c73b-468a-f8c9-5a69e12f349c"
      },
      "execution_count": null,
      "outputs": [
        {
          "output_type": "execute_result",
          "data": {
            "text/plain": [
              "12"
            ]
          },
          "metadata": {},
          "execution_count": 5
        }
      ]
    },
    {
      "cell_type": "code",
      "source": [
        "len(data)"
      ],
      "metadata": {
        "colab": {
          "base_uri": "https://localhost:8080/"
        },
        "id": "LznNbXmFsQ-1",
        "outputId": "bc0d4543-49a1-443e-a998-2d6b2699d3f3"
      },
      "execution_count": null,
      "outputs": [
        {
          "output_type": "execute_result",
          "data": {
            "text/plain": [
              "20"
            ]
          },
          "metadata": {},
          "execution_count": 6
        }
      ]
    },
    {
      "cell_type": "markdown",
      "source": [
        "###string.ljust(i)\n",
        "* The ljust(i) method is used to make text left-aligned or adjusted text to left.\n",
        "* This method will add a space to the string to make it match.\n",
        "* The parameter i is an integer which is the total length of the text (not the number of spaces added)"
      ],
      "metadata": {
        "id": "EfEKqD6ZsZda"
      }
    },
    {
      "cell_type": "code",
      "source": [
        "text = \"Data Science\"\n",
        "leftadjust_text = text.ljust(20)"
      ],
      "metadata": {
        "id": "_YDwu6ZksSO_"
      },
      "execution_count": null,
      "outputs": []
    },
    {
      "cell_type": "code",
      "source": [
        "leftadjust_text"
      ],
      "metadata": {
        "colab": {
          "base_uri": "https://localhost:8080/",
          "height": 36
        },
        "id": "_---4XirtIfB",
        "outputId": "6a158f0a-6c06-433b-e24b-c011cf9c27df"
      },
      "execution_count": null,
      "outputs": [
        {
          "output_type": "execute_result",
          "data": {
            "text/plain": [
              "'Data Science        '"
            ],
            "application/vnd.google.colaboratory.intrinsic+json": {
              "type": "string"
            }
          },
          "metadata": {},
          "execution_count": 8
        }
      ]
    },
    {
      "cell_type": "code",
      "source": [
        "print(\"Before: \\n\", text)\n",
        "print(\"\\nAfter: \\n\", leftadjust_text)"
      ],
      "metadata": {
        "colab": {
          "base_uri": "https://localhost:8080/"
        },
        "id": "eMQ1joaHtKal",
        "outputId": "25e4da4e-fc60-4cb2-b773-01341d59f7f3"
      },
      "execution_count": null,
      "outputs": [
        {
          "output_type": "stream",
          "name": "stdout",
          "text": [
            "Sebelumnya: \n",
            " Data Science\n",
            "\n",
            "Sesudah: \n",
            " Data Science        \n"
          ]
        }
      ]
    },
    {
      "cell_type": "code",
      "source": [
        "print(\"length of text before: \", len(text))\n",
        "print(\"length of text after adjust: \", len(leftadjust_text))"
      ],
      "metadata": {
        "colab": {
          "base_uri": "https://localhost:8080/"
        },
        "id": "rMn1ddl0tTO4",
        "outputId": "33b8879e-0418-43d4-e91e-8c9a884a024d"
      },
      "execution_count": null,
      "outputs": [
        {
          "output_type": "stream",
          "name": "stdout",
          "text": [
            "length of text before:  12\n",
            "length of text after adjust:  20\n"
          ]
        }
      ]
    },
    {
      "cell_type": "markdown",
      "source": [
        "###string.center(i, sep)\n",
        "* The center(i) method used to create center align of text.\n",
        "* The parameter i is an integer which is the total length of the text.\n",
        "* The paramater sep is the separator in the left and right of the text, defaut value is space."
      ],
      "metadata": {
        "id": "CAtoPtO7uJiN"
      }
    },
    {
      "cell_type": "code",
      "source": [
        "course = \"Data Science\""
      ],
      "metadata": {
        "id": "xyc3XAPGt_E_"
      },
      "execution_count": null,
      "outputs": []
    },
    {
      "cell_type": "code",
      "source": [
        "center_course = course.center(20)\n",
        "center_course"
      ],
      "metadata": {
        "colab": {
          "base_uri": "https://localhost:8080/",
          "height": 36
        },
        "id": "0MTkH0nFux3R",
        "outputId": "b155a8d6-f6bf-470e-e96e-fbb54f29a20d"
      },
      "execution_count": null,
      "outputs": [
        {
          "output_type": "execute_result",
          "data": {
            "text/plain": [
              "'    Data Science    '"
            ],
            "application/vnd.google.colaboratory.intrinsic+json": {
              "type": "string"
            }
          },
          "metadata": {},
          "execution_count": 15
        }
      ]
    },
    {
      "cell_type": "code",
      "source": [
        "print(\"length text before adjustment: \", len(course))\n",
        "print(\"length text afrer adjustment: \", len(center_course))"
      ],
      "metadata": {
        "colab": {
          "base_uri": "https://localhost:8080/"
        },
        "id": "CbLA7ocdvBs0",
        "outputId": "c5146112-2827-4518-8d8e-0d0be8755179"
      },
      "execution_count": null,
      "outputs": [
        {
          "output_type": "stream",
          "name": "stdout",
          "text": [
            "length text before adjustment:  12\n",
            "length text afrer adjustment:  20\n"
          ]
        }
      ]
    },
    {
      "cell_type": "code",
      "source": [
        "center_course = course.center(20,\",\")\n",
        "print(center_course)"
      ],
      "metadata": {
        "colab": {
          "base_uri": "https://localhost:8080/"
        },
        "id": "t9DqVUdEvPN6",
        "outputId": "e126620f-2304-4ca0-8a33-1580315ff11e"
      },
      "execution_count": null,
      "outputs": [
        {
          "output_type": "stream",
          "name": "stdout",
          "text": [
            ",,,,Data Science,,,,\n"
          ]
        }
      ]
    },
    {
      "cell_type": "markdown",
      "source": [
        "###String Literals\n",
        "* Generally, strings are written easily in Python, enclosed in single quotes. But under certain conditions, it takes a single quote in the middle of the string.\n",
        "* single quites in the midle of string will make an error.\n",
        "* escape character, backslash will solve it.\n"
      ],
      "metadata": {
        "id": "S46J47D8vdsL"
      }
    },
    {
      "cell_type": "code",
      "source": [
        "print(\"aren't \")"
      ],
      "metadata": {
        "colab": {
          "base_uri": "https://localhost:8080/"
        },
        "id": "FjNjrkO6vXCj",
        "outputId": "2e03a6fe-1f02-4f0b-85fb-eb6acbd08c97"
      },
      "execution_count": null,
      "outputs": [
        {
          "output_type": "stream",
          "name": "stdout",
          "text": [
            "aren't \n"
          ]
        }
      ]
    },
    {
      "cell_type": "code",
      "source": [
        "print('aren't)"
      ],
      "metadata": {
        "colab": {
          "base_uri": "https://localhost:8080/",
          "height": 146
        },
        "id": "o8oO2w2SwO0K",
        "outputId": "80410993-e06d-4563-c16e-46bc8c5e8e65"
      },
      "execution_count": null,
      "outputs": [
        {
          "output_type": "error",
          "ename": "SyntaxError",
          "evalue": "ignored",
          "traceback": [
            "\u001b[0;36m  File \u001b[0;32m\"<ipython-input-20-6762bc4af60b>\"\u001b[0;36m, line \u001b[0;32m1\u001b[0m\n\u001b[0;31m    print('aren't)\u001b[0m\n\u001b[0m                ^\u001b[0m\n\u001b[0;31mSyntaxError\u001b[0m\u001b[0;31m:\u001b[0m invalid syntax\n"
          ]
        }
      ]
    },
    {
      "cell_type": "code",
      "source": [
        "print('aren\\'t')"
      ],
      "metadata": {
        "colab": {
          "base_uri": "https://localhost:8080/"
        },
        "id": "KcCg5kVC2XGX",
        "outputId": "0ac43249-7142-4a38-e892-a038fc5c12ea"
      },
      "execution_count": null,
      "outputs": [
        {
          "output_type": "stream",
          "name": "stdout",
          "text": [
            "aren't\n"
          ]
        }
      ]
    },
    {
      "cell_type": "markdown",
      "source": [
        "###Raw Strings\n",
        "* Python also provides a way to print strings according to whatever input or text is given.\n",
        "* To implement raw strings, insert the letters"
      ],
      "metadata": {
        "id": "R1sYgBhT2phA"
      }
    },
    {
      "cell_type": "code",
      "source": [
        "print(r'aren\\'t')"
      ],
      "metadata": {
        "colab": {
          "base_uri": "https://localhost:8080/"
        },
        "id": "3L_RHppR2coh",
        "outputId": "37d0d498-5811-42d3-97e9-613e7a180657"
      },
      "execution_count": null,
      "outputs": [
        {
          "output_type": "stream",
          "name": "stdout",
          "text": [
            "aren\\'t\n"
          ]
        }
      ]
    },
    {
      "cell_type": "code",
      "source": [
        "text_tab = \"Data \\tScience\"\n",
        "\n",
        "print(\"Value showed :\")\n",
        "print(text_tab)\n",
        "print(\"\\nRaw strings :\")\n",
        "print(r\"Data \\tScience\")"
      ],
      "metadata": {
        "colab": {
          "base_uri": "https://localhost:8080/"
        },
        "id": "HMC_QXM82z84",
        "outputId": "510c449d-b555-4c01-bdf9-8cc4b439e7c6"
      },
      "execution_count": null,
      "outputs": [
        {
          "output_type": "stream",
          "name": "stdout",
          "text": [
            "Value showed :\n",
            "Data \tScience\n",
            "\n",
            "Raw strings :\n",
            "Data \\tScience\n"
          ]
        }
      ]
    },
    {
      "cell_type": "code",
      "source": [
        ""
      ],
      "metadata": {
        "id": "QMtXOvi33PyO"
      },
      "execution_count": null,
      "outputs": []
    }
  ]
}